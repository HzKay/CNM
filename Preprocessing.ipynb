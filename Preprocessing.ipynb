{
  "cells": [
    {
      "cell_type": "markdown",
      "metadata": {
        "id": "iPuzmG8GmfgH"
      },
      "source": [
        "**Tiền xử lý dữ liệu**"
      ]
    },
    {
      "cell_type": "code",
      "execution_count": 54,
      "metadata": {
        "id": "m-My_aQZmaN0"
      },
      "outputs": [],
      "source": [
        "import re #Xoá các dòng comment /**/ trong file php\n",
        "import os #Chạy lấy toàn bộ file\n",
        "import math #Tính toán information entropy\n",
        "import pandas as pd #Thao tác tạo file csv theo cấu trúc\n",
        "import numpy as np\n",
        "from collections import Counter #Đếm số lượng từ xuất hiện trong file"
      ]
    },
    {
      "cell_type": "code",
      "execution_count": 55,
      "metadata": {
        "id": "XWM8mNfNA1d2"
      },
      "outputs": [],
      "source": [
        "def process(input_text):\n",
        "    # Sử dụng biểu thức chính quy để tìm và thay thế các đoạn comment\n",
        "    pattern = re.compile(r'/\\*.*?\\*/', re.DOTALL)\n",
        "    result = re.sub(pattern, '', input_text)\n",
        "\n",
        "    lines = result.split(\"\\n\")\n",
        "    # Xoá các dòng trắng\n",
        "    non_blank_lines = filter(lambda line: line.strip() != \"\", lines)\n",
        "    final = \"\\n\".join(non_blank_lines)\n",
        "    return final\n"
      ]
    },
    {
      "cell_type": "code",
      "execution_count": 56,
      "metadata": {
        "id": "Z9-0ByBGClEJ"
      },
      "outputs": [],
      "source": [
        "#  Tính entropy information của file\n",
        "def calculate_entropy(text):\n",
        "    # Tạo một từ điển đếm tần suất xuất hiện của từng ký tự trong văn bản\n",
        "    char_count = {}\n",
        "    total_chars = len(text)\n",
        "\n",
        "    for char in text:\n",
        "        char_count[char] = char_count.get(char, 0) + 1\n",
        "\n",
        "    # Tính toán entropy theo công thức\n",
        "    entropy = -sum((count/total_chars) * math.log2(count/total_chars) for count in char_count.values())\n",
        "\n",
        "    return round(entropy,3)"
      ]
    },
    {
      "cell_type": "code",
      "execution_count": 57,
      "metadata": {
        "id": "kbb154_qDSxF"
      },
      "outputs": [],
      "source": [
        "# Đếm số lượng các câu lệnh lặp trong file\n",
        "def cal_loop_ratio(code):\n",
        "    total_lines = code.split('\\n')\n",
        "\n",
        "    # Tính tỷ lệ\n",
        "    if len(total_lines) > 0:\n",
        "        pattern_for = re.compile(r'for[ ]*\\(')\n",
        "        pattern_foreach = re.compile(r'foreach[ ]*\\(')\n",
        "        pattern_elseif = re.compile(r'elseif')\n",
        "        ratio = list()\n",
        "        match_els = list()\n",
        "        match_for = list()\n",
        "        match_fore = list()\n",
        "\n",
        "        match_els = pattern_elseif.findall(code)\n",
        "        match_for = pattern_for.findall(code)\n",
        "        match_fore = pattern_foreach.findall(code)\n",
        "\n",
        "        for i in range(3):\n",
        "          ratio.append(round((len(match_els) / len(total_lines)), 3))\n",
        "          ratio.append(round((len(match_for) / len(total_lines)), 3))\n",
        "          ratio.append(round((len(match_fore) / len(total_lines)), 3))\n",
        "\n",
        "        return ratio\n",
        "    else:\n",
        "        return [0,0,0]"
      ]
    },
    {
      "cell_type": "code",
      "execution_count": 58,
      "metadata": {
        "id": "j2QEw9kKqdkB"
      },
      "outputs": [],
      "source": [
        "# Đếm số lượng từ xuất hiện trong file\n",
        "def count_word(file, word_array):\n",
        "    count_list = list()\n",
        "    for word in word_array:\n",
        "      count_list.append(file.count(word))\n",
        "\n",
        "    return count_list;"
      ]
    },
    {
      "cell_type": "code",
      "execution_count": 59,
      "metadata": {
        "id": "G7AGXUn5hldH"
      },
      "outputs": [],
      "source": [
        "\n",
        "def extract_php_code(text):\n",
        "    pattern = re.compile(r'<\\?[php]?(.*?)\\?>', re.DOTALL)\n",
        "    result=\"\"\n",
        "    matches = pattern.findall(text)\n",
        "    for code_block in matches:\n",
        "        result += code_block.strip()\n",
        "\n",
        "    return result;\n"
      ]
    },
    {
      "cell_type": "code",
      "execution_count": 60,
      "metadata": {
        "id": "EaZDsOODohQk"
      },
      "outputs": [],
      "source": [
        "# Đếm số lượng các hàm nguy hiểm trong file\n",
        "def cal_mal_func(code, mal_func_arr):\n",
        "  temp = extract_php_code(code)\n",
        "  result = count_word(temp, mal_func_arr)\n",
        "\n",
        "  return sum(result)"
      ]
    },
    {
      "cell_type": "code",
      "execution_count": 61,
      "metadata": {
        "id": "oWUhE80DGvLp"
      },
      "outputs": [],
      "source": [
        "# Đếm số ký tự trên 1 dòng trong file\n",
        "def count_max_len_line(code):\n",
        "  total_lines = extract_php_code(code)\n",
        "  total_lines = total_lines.split('\\n')\n",
        "  max_len = max(total_lines, key=len)\n",
        "\n",
        "  return len(max_len)"
      ]
    },
    {
      "cell_type": "code",
      "execution_count": 62,
      "metadata": {
        "id": "SIGLV2_NUJuw"
      },
      "outputs": [],
      "source": [
        "# Tìm từ dài nhất\n",
        "def count_max_len_word(code):\n",
        "  words = code.split()\n",
        "  word_list = filter(filter_url, words)\n",
        "  max_word = max(word_list, key=len)\n",
        "\n",
        "  return len(max_word)"
      ]
    },
    {
      "cell_type": "code",
      "execution_count": 63,
      "metadata": {
        "id": "5Lo1dsMyaw_R"
      },
      "outputs": [],
      "source": [
        "def filter_url(input):\n",
        "  fil_value = 'http://'\n",
        "  if fil_value in input:\n",
        "    return False\n",
        "\n",
        "  return True;"
      ]
    },
    {
      "cell_type": "code",
      "execution_count": 64,
      "metadata": {
        "id": "dBE0I7dV1oM_"
      },
      "outputs": [],
      "source": [
        "def_arr = ['eval']\n",
        "faf_arr = ['wget', 'curl', 'lynx', 'get', 'fetch']\n",
        "rcf_arr = ['perl', 'python', 'gcc', 'chmod', 'nohup', 'nc ']\n",
        "icf_arr = ['uname', 'id', 'ver', 'sysctl', 'whoami', '$OSTYPE', 'pwd']\n",
        "word = ['$_GET', '$_POST', '$_COOKIE', '$_REQUEST', '$_FILES', '$_SESSION']\n",
        "directory_path = './Webshell/'\n",
        "F1 = []\n",
        "F2 = []\n",
        "F3 = []\n",
        "F4 = []\n",
        "F5 = []\n",
        "F6 = []\n",
        "F7 = []\n",
        "F8 = []\n",
        "F9 = []\n",
        "F10 = []\n",
        "F11 = []\n",
        "F12 = []\n",
        "F13 = []\n",
        "F14 = []\n",
        "F15 = []\n",
        "F16 = []\n",
        "class_att = []"
      ]
    },
    {
      "cell_type": "code",
      "execution_count": 65,
      "metadata": {
        "id": "eGVsAfMvmesk"
      },
      "outputs": [],
      "source": [
        "# Kiểm tra xem đường dẫn đến thư mục có tồn tại không\n",
        "if os.path.exists(directory_path) and os.path.isdir(directory_path):\n",
        "    # Lặp qua tất cả các tệp trong thư mục\n",
        "    for file_name in os.listdir(directory_path):\n",
        "        file_path = os.path.join(directory_path, file_name)\n",
        "        # Kiểm tra xem đối tượng có phải là một tệp không\n",
        "        if os.path.isfile(file_path) and (file_name != '.ipynb_checkpoints'):\n",
        "            temp = list()\n",
        "            temp2 = list()\n",
        "            file_content = open(file_path, mode ='r', encoding='ISO-8859-1').read()\n",
        "\n",
        "            sample = process(file_content)\n",
        "            temp = count_word(sample, word)\n",
        "            temp2 = cal_loop_ratio(sample)\n",
        "            F10.append(cal_mal_func(sample, def_arr))\n",
        "            F11.append(cal_mal_func(sample, faf_arr))\n",
        "            F12.append(cal_mal_func(sample, rcf_arr))\n",
        "            F13.append(cal_mal_func(sample, icf_arr))\n",
        "            F14.append(count_max_len_word(sample))\n",
        "            F15.append(count_max_len_line(sample))\n",
        "            F16.append(calculate_entropy(sample))\n",
        "\n",
        "        # Gộp mảng lại\n",
        "        F1.append(temp[0])\n",
        "        F2.append(temp[1])\n",
        "        F3.append(temp[2])\n",
        "        F4.append(temp[3])\n",
        "        F5.append(temp[4])\n",
        "        F6.append(temp[5])\n",
        "        F7.append(temp2[0])\n",
        "        F8.append(temp2[1])\n",
        "        F9.append(temp2[2])\n",
        "\n",
        "\n",
        "\n"
      ]
    },
    {
      "cell_type": "code",
      "execution_count": 66,
      "metadata": {
        "colab": {
          "base_uri": "https://localhost:8080/"
        },
        "id": "-xSsSnyeUYvc",
        "outputId": "36a03cee-56c4-4165-affa-5fe4c22d7a9f"
      },
      "outputs": [
        {
          "output_type": "stream",
          "name": "stdout",
          "text": [
            "[0, 0, 37]\n",
            "[21, 21, 595]\n",
            "[0, 0, 27]\n",
            "[0, 0, 0]\n",
            "[2, 2, 0]\n",
            "[0, 0, 3]\n",
            "[0.059, 0.059, 0.045]\n",
            "[0.0, 0.0, 0.036]\n",
            "[0.007, 0.007, 0.042]\n",
            "[3, 2]\n",
            "[9, 0]\n",
            "[0, 0]\n",
            "[61, 0]\n",
            "[194, 545]\n",
            "[322, 25]\n",
            "[5.299, 5.683]\n"
          ]
        }
      ],
      "source": [
        "\n",
        "print(F1)\n",
        "print(F2)\n",
        "print(F3)\n",
        "print(F4)\n",
        "print(F5)\n",
        "print(F6)\n",
        "print(F7)\n",
        "print(F8)\n",
        "print(F9)\n",
        "print(F10)\n",
        "print(F11)\n",
        "print(F12)\n",
        "print(F13)\n",
        "print(F14)\n",
        "print(F15)\n",
        "print(F16)\n"
      ]
    },
    {
      "cell_type": "code",
      "execution_count": 67,
      "metadata": {
        "id": "7QgMZWMMFD26"
      },
      "outputs": [],
      "source": [
        "def get_all_files():\n",
        "  directory_path = './Webshell/'\n",
        "  file_list = []\n",
        "  for file_name in os.listdir(directory_path):\n",
        "      file_path = os.path.join(directory_path, file_name)\n",
        "\n",
        "      # Kiểm tra xem đối tượng có phải là một tệp không\n",
        "      if os.path.isfile(file_path):\n",
        "        file_list.append(file_name)\n",
        "\n",
        "  return file_list"
      ]
    },
    {
      "cell_type": "code",
      "execution_count": 68,
      "metadata": {
        "id": "HwcxfOmdDTzd",
        "outputId": "35288d4a-718b-4d76-c45f-afce9394c8b8",
        "colab": {
          "base_uri": "https://localhost:8080/"
        }
      },
      "outputs": [
        {
          "output_type": "stream",
          "name": "stdout",
          "text": [
            "['STNC_WebShell_v0.8.php', 'r57142.php']\n"
          ]
        }
      ],
      "source": [
        "file_list = get_all_files()\n",
        "file_total = list()\n",
        "for sample in file_list:\n",
        "\n",
        "  file_total.append(sample)\n",
        "\n",
        "print(file_total)"
      ]
    },
    {
      "cell_type": "code",
      "execution_count": 69,
      "metadata": {
        "colab": {
          "base_uri": "https://localhost:8080/",
          "height": 381
        },
        "id": "IMgd_B5bdL9z",
        "outputId": "f51a495c-2a75-4f28-ec19-241ec2ce864c"
      },
      "outputs": [
        {
          "output_type": "error",
          "ename": "ValueError",
          "evalue": "All arrays must be of the same length",
          "traceback": [
            "\u001b[0;31m---------------------------------------------------------------------------\u001b[0m",
            "\u001b[0;31mValueError\u001b[0m                                Traceback (most recent call last)",
            "\u001b[0;32m<ipython-input-69-bee53ccf9e4c>\u001b[0m in \u001b[0;36m<cell line: 22>\u001b[0;34m()\u001b[0m\n\u001b[1;32m     20\u001b[0m }\n\u001b[1;32m     21\u001b[0m \u001b[0;34m\u001b[0m\u001b[0m\n\u001b[0;32m---> 22\u001b[0;31m \u001b[0mdf\u001b[0m \u001b[0;34m=\u001b[0m \u001b[0mpd\u001b[0m\u001b[0;34m.\u001b[0m\u001b[0mDataFrame\u001b[0m\u001b[0;34m(\u001b[0m\u001b[0mdata\u001b[0m\u001b[0;34m)\u001b[0m\u001b[0;34m\u001b[0m\u001b[0;34m\u001b[0m\u001b[0m\n\u001b[0m\u001b[1;32m     23\u001b[0m \u001b[0mcsv_file_path\u001b[0m \u001b[0;34m=\u001b[0m \u001b[0;34m\"dataset_webshell.csv\"\u001b[0m\u001b[0;34m\u001b[0m\u001b[0;34m\u001b[0m\u001b[0m\n\u001b[1;32m     24\u001b[0m \u001b[0mdf\u001b[0m\u001b[0;34m.\u001b[0m\u001b[0mto_csv\u001b[0m\u001b[0;34m(\u001b[0m\u001b[0mcsv_file_path\u001b[0m\u001b[0;34m,\u001b[0m \u001b[0mindex\u001b[0m\u001b[0;34m=\u001b[0m\u001b[0;32mFalse\u001b[0m\u001b[0;34m)\u001b[0m\u001b[0;34m\u001b[0m\u001b[0;34m\u001b[0m\u001b[0m\n",
            "\u001b[0;32m/usr/local/lib/python3.10/dist-packages/pandas/core/frame.py\u001b[0m in \u001b[0;36m__init__\u001b[0;34m(self, data, index, columns, dtype, copy)\u001b[0m\n\u001b[1;32m    662\u001b[0m         \u001b[0;32melif\u001b[0m \u001b[0misinstance\u001b[0m\u001b[0;34m(\u001b[0m\u001b[0mdata\u001b[0m\u001b[0;34m,\u001b[0m \u001b[0mdict\u001b[0m\u001b[0;34m)\u001b[0m\u001b[0;34m:\u001b[0m\u001b[0;34m\u001b[0m\u001b[0;34m\u001b[0m\u001b[0m\n\u001b[1;32m    663\u001b[0m             \u001b[0;31m# GH#38939 de facto copy defaults to False only in non-dict cases\u001b[0m\u001b[0;34m\u001b[0m\u001b[0;34m\u001b[0m\u001b[0m\n\u001b[0;32m--> 664\u001b[0;31m             \u001b[0mmgr\u001b[0m \u001b[0;34m=\u001b[0m \u001b[0mdict_to_mgr\u001b[0m\u001b[0;34m(\u001b[0m\u001b[0mdata\u001b[0m\u001b[0;34m,\u001b[0m \u001b[0mindex\u001b[0m\u001b[0;34m,\u001b[0m \u001b[0mcolumns\u001b[0m\u001b[0;34m,\u001b[0m \u001b[0mdtype\u001b[0m\u001b[0;34m=\u001b[0m\u001b[0mdtype\u001b[0m\u001b[0;34m,\u001b[0m \u001b[0mcopy\u001b[0m\u001b[0;34m=\u001b[0m\u001b[0mcopy\u001b[0m\u001b[0;34m,\u001b[0m \u001b[0mtyp\u001b[0m\u001b[0;34m=\u001b[0m\u001b[0mmanager\u001b[0m\u001b[0;34m)\u001b[0m\u001b[0;34m\u001b[0m\u001b[0;34m\u001b[0m\u001b[0m\n\u001b[0m\u001b[1;32m    665\u001b[0m         \u001b[0;32melif\u001b[0m \u001b[0misinstance\u001b[0m\u001b[0;34m(\u001b[0m\u001b[0mdata\u001b[0m\u001b[0;34m,\u001b[0m \u001b[0mma\u001b[0m\u001b[0;34m.\u001b[0m\u001b[0mMaskedArray\u001b[0m\u001b[0;34m)\u001b[0m\u001b[0;34m:\u001b[0m\u001b[0;34m\u001b[0m\u001b[0;34m\u001b[0m\u001b[0m\n\u001b[1;32m    666\u001b[0m             \u001b[0;32mimport\u001b[0m \u001b[0mnumpy\u001b[0m\u001b[0;34m.\u001b[0m\u001b[0mma\u001b[0m\u001b[0;34m.\u001b[0m\u001b[0mmrecords\u001b[0m \u001b[0;32mas\u001b[0m \u001b[0mmrecords\u001b[0m\u001b[0;34m\u001b[0m\u001b[0;34m\u001b[0m\u001b[0m\n",
            "\u001b[0;32m/usr/local/lib/python3.10/dist-packages/pandas/core/internals/construction.py\u001b[0m in \u001b[0;36mdict_to_mgr\u001b[0;34m(data, index, columns, dtype, typ, copy)\u001b[0m\n\u001b[1;32m    491\u001b[0m             \u001b[0marrays\u001b[0m \u001b[0;34m=\u001b[0m \u001b[0;34m[\u001b[0m\u001b[0mx\u001b[0m\u001b[0;34m.\u001b[0m\u001b[0mcopy\u001b[0m\u001b[0;34m(\u001b[0m\u001b[0;34m)\u001b[0m \u001b[0;32mif\u001b[0m \u001b[0mhasattr\u001b[0m\u001b[0;34m(\u001b[0m\u001b[0mx\u001b[0m\u001b[0;34m,\u001b[0m \u001b[0;34m\"dtype\"\u001b[0m\u001b[0;34m)\u001b[0m \u001b[0;32melse\u001b[0m \u001b[0mx\u001b[0m \u001b[0;32mfor\u001b[0m \u001b[0mx\u001b[0m \u001b[0;32min\u001b[0m \u001b[0marrays\u001b[0m\u001b[0;34m]\u001b[0m\u001b[0;34m\u001b[0m\u001b[0;34m\u001b[0m\u001b[0m\n\u001b[1;32m    492\u001b[0m \u001b[0;34m\u001b[0m\u001b[0m\n\u001b[0;32m--> 493\u001b[0;31m     \u001b[0;32mreturn\u001b[0m \u001b[0marrays_to_mgr\u001b[0m\u001b[0;34m(\u001b[0m\u001b[0marrays\u001b[0m\u001b[0;34m,\u001b[0m \u001b[0mcolumns\u001b[0m\u001b[0;34m,\u001b[0m \u001b[0mindex\u001b[0m\u001b[0;34m,\u001b[0m \u001b[0mdtype\u001b[0m\u001b[0;34m=\u001b[0m\u001b[0mdtype\u001b[0m\u001b[0;34m,\u001b[0m \u001b[0mtyp\u001b[0m\u001b[0;34m=\u001b[0m\u001b[0mtyp\u001b[0m\u001b[0;34m,\u001b[0m \u001b[0mconsolidate\u001b[0m\u001b[0;34m=\u001b[0m\u001b[0mcopy\u001b[0m\u001b[0;34m)\u001b[0m\u001b[0;34m\u001b[0m\u001b[0;34m\u001b[0m\u001b[0m\n\u001b[0m\u001b[1;32m    494\u001b[0m \u001b[0;34m\u001b[0m\u001b[0m\n\u001b[1;32m    495\u001b[0m \u001b[0;34m\u001b[0m\u001b[0m\n",
            "\u001b[0;32m/usr/local/lib/python3.10/dist-packages/pandas/core/internals/construction.py\u001b[0m in \u001b[0;36marrays_to_mgr\u001b[0;34m(arrays, columns, index, dtype, verify_integrity, typ, consolidate)\u001b[0m\n\u001b[1;32m    116\u001b[0m         \u001b[0;31m# figure out the index, if necessary\u001b[0m\u001b[0;34m\u001b[0m\u001b[0;34m\u001b[0m\u001b[0m\n\u001b[1;32m    117\u001b[0m         \u001b[0;32mif\u001b[0m \u001b[0mindex\u001b[0m \u001b[0;32mis\u001b[0m \u001b[0;32mNone\u001b[0m\u001b[0;34m:\u001b[0m\u001b[0;34m\u001b[0m\u001b[0;34m\u001b[0m\u001b[0m\n\u001b[0;32m--> 118\u001b[0;31m             \u001b[0mindex\u001b[0m \u001b[0;34m=\u001b[0m \u001b[0m_extract_index\u001b[0m\u001b[0;34m(\u001b[0m\u001b[0marrays\u001b[0m\u001b[0;34m)\u001b[0m\u001b[0;34m\u001b[0m\u001b[0;34m\u001b[0m\u001b[0m\n\u001b[0m\u001b[1;32m    119\u001b[0m         \u001b[0;32melse\u001b[0m\u001b[0;34m:\u001b[0m\u001b[0;34m\u001b[0m\u001b[0;34m\u001b[0m\u001b[0m\n\u001b[1;32m    120\u001b[0m             \u001b[0mindex\u001b[0m \u001b[0;34m=\u001b[0m \u001b[0mensure_index\u001b[0m\u001b[0;34m(\u001b[0m\u001b[0mindex\u001b[0m\u001b[0;34m)\u001b[0m\u001b[0;34m\u001b[0m\u001b[0;34m\u001b[0m\u001b[0m\n",
            "\u001b[0;32m/usr/local/lib/python3.10/dist-packages/pandas/core/internals/construction.py\u001b[0m in \u001b[0;36m_extract_index\u001b[0;34m(data)\u001b[0m\n\u001b[1;32m    664\u001b[0m             \u001b[0mlengths\u001b[0m \u001b[0;34m=\u001b[0m \u001b[0mlist\u001b[0m\u001b[0;34m(\u001b[0m\u001b[0mset\u001b[0m\u001b[0;34m(\u001b[0m\u001b[0mraw_lengths\u001b[0m\u001b[0;34m)\u001b[0m\u001b[0;34m)\u001b[0m\u001b[0;34m\u001b[0m\u001b[0;34m\u001b[0m\u001b[0m\n\u001b[1;32m    665\u001b[0m             \u001b[0;32mif\u001b[0m \u001b[0mlen\u001b[0m\u001b[0;34m(\u001b[0m\u001b[0mlengths\u001b[0m\u001b[0;34m)\u001b[0m \u001b[0;34m>\u001b[0m \u001b[0;36m1\u001b[0m\u001b[0;34m:\u001b[0m\u001b[0;34m\u001b[0m\u001b[0;34m\u001b[0m\u001b[0m\n\u001b[0;32m--> 666\u001b[0;31m                 \u001b[0;32mraise\u001b[0m \u001b[0mValueError\u001b[0m\u001b[0;34m(\u001b[0m\u001b[0;34m\"All arrays must be of the same length\"\u001b[0m\u001b[0;34m)\u001b[0m\u001b[0;34m\u001b[0m\u001b[0;34m\u001b[0m\u001b[0m\n\u001b[0m\u001b[1;32m    667\u001b[0m \u001b[0;34m\u001b[0m\u001b[0m\n\u001b[1;32m    668\u001b[0m             \u001b[0;32mif\u001b[0m \u001b[0mhave_dicts\u001b[0m\u001b[0;34m:\u001b[0m\u001b[0;34m\u001b[0m\u001b[0;34m\u001b[0m\u001b[0m\n",
            "\u001b[0;31mValueError\u001b[0m: All arrays must be of the same length"
          ]
        }
      ],
      "source": [
        "class_att = [1] * len(F1)\n",
        "data = {\n",
        "    'GET': F1,\n",
        "    'POST': F2,\n",
        "    'COOKIE': F3,\n",
        "    'REQUEST': F4,\n",
        "    'FILES': F5,\n",
        "    'SESSION': F6,\n",
        "    'elseif': F7,\n",
        "    'for': F8,\n",
        "    'foreach': F9,\n",
        "    'DEF': F10,\n",
        "    'FAF': F11,\n",
        "    'RCF': F12,\n",
        "    'ICF': F13,\n",
        "    'maxWordLen': F14,\n",
        "    'maxLineLen': F15,\n",
        "    'entropy': F16,\n",
        "    'Type': class_att\n",
        "}\n",
        "\n",
        "df = pd.DataFrame(data)\n",
        "csv_file_path = \"dataset_webshell.csv\"\n",
        "df.to_csv(csv_file_path, index=False)\n",
        "print(f\"CSV file has been created at: {csv_file_path}\")"
      ]
    }
  ],
  "metadata": {
    "colab": {
      "provenance": []
    },
    "kernelspec": {
      "display_name": "Python 3",
      "name": "python3"
    },
    "language_info": {
      "name": "python"
    }
  },
  "nbformat": 4,
  "nbformat_minor": 0
}